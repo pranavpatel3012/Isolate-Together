{
 "cells": [
  {
   "cell_type": "code",
   "execution_count": 3,
   "metadata": {},
   "outputs": [],
   "source": [
    "import pandas as pd\n",
    "import numpy as np\n",
    "import matplotlib.pyplot as plt\n",
    "import pickle"
   ]
  },
  {
   "cell_type": "code",
   "execution_count": 12,
   "metadata": {},
   "outputs": [],
   "source": [
    "qs = ['biography', 'detective', 'fiction', 'mystery', 'non fiction', 'novel', 'Book', 'action', 'bollywood', 'comedy', 'detective', 'drama', 'hollywood', 'horror', 'romantic', 'scifi', 'thriller', 'Movie', 'country music', 'edm', 'heavy metal', 'hip hop', 'jazz', 'pop', 'rock', 'Music', 'baseball', 'basketball', 'chess', 'cricket', 'football', 'hockey', 'Sport', 'Cluster #']"
   ]
  },
  {
   "cell_type": "code",
   "execution_count": null,
   "metadata": {},
   "outputs": [],
   "source": []
  },
  {
   "cell_type": "code",
   "execution_count": 11,
   "metadata": {},
   "outputs": [
    {
     "ename": "NameError",
     "evalue": "name 'new_profile' is not defined",
     "output_type": "error",
     "traceback": [
      "\u001b[1;31m---------------------------------------------------------------------------\u001b[0m",
      "\u001b[1;31mNameError\u001b[0m                                 Traceback (most recent call last)",
      "\u001b[1;32m<ipython-input-11-f74efb266b15>\u001b[0m in \u001b[0;36m<module>\u001b[1;34m\u001b[0m\n\u001b[1;32m----> 1\u001b[1;33m \u001b[1;32mfor\u001b[0m \u001b[0mi\u001b[0m \u001b[1;32min\u001b[0m \u001b[0mnew_profile\u001b[0m\u001b[1;33m.\u001b[0m\u001b[0mcolumns\u001b[0m\u001b[1;33m[\u001b[0m\u001b[1;36m0\u001b[0m\u001b[1;33m:\u001b[0m\u001b[1;33m]\u001b[0m\u001b[1;33m:\u001b[0m\u001b[1;33m\u001b[0m\u001b[1;33m\u001b[0m\u001b[0m\n\u001b[0m\u001b[0;32m      2\u001b[0m     \u001b[0mnew_profile\u001b[0m\u001b[1;33m[\u001b[0m\u001b[0mi\u001b[0m\u001b[1;33m]\u001b[0m \u001b[1;33m=\u001b[0m \u001b[0mnp\u001b[0m\u001b[1;33m.\u001b[0m\u001b[0mrandom\u001b[0m\u001b[1;33m.\u001b[0m\u001b[0mrandint\u001b[0m\u001b[1;33m(\u001b[0m\u001b[1;36m0\u001b[0m\u001b[1;33m,\u001b[0m\u001b[1;36m10\u001b[0m\u001b[1;33m,\u001b[0m\u001b[1;36m1\u001b[0m\u001b[1;33m)\u001b[0m\u001b[1;33m\u001b[0m\u001b[1;33m\u001b[0m\u001b[0m\n",
      "\u001b[1;31mNameError\u001b[0m: name 'new_profile' is not defined"
     ]
    }
   ],
   "source": [
    "for i in new_profile.columns[0:]:\n",
    "    new_profile[i] = np.random.randint(0,10,1)"
   ]
  },
  {
   "cell_type": "code",
   "execution_count": null,
   "metadata": {},
   "outputs": [],
   "source": []
  },
  {
   "cell_type": "code",
   "execution_count": 14,
   "metadata": {},
   "outputs": [],
   "source": [
    "df = pd.DataFrame(np.random.randint(0,1,size=(1,34)), columns=qs)\n"
   ]
  },
  {
   "cell_type": "code",
   "execution_count": 15,
   "metadata": {},
   "outputs": [
    {
     "data": {
      "text/html": [
       "<div>\n",
       "<style scoped>\n",
       "    .dataframe tbody tr th:only-of-type {\n",
       "        vertical-align: middle;\n",
       "    }\n",
       "\n",
       "    .dataframe tbody tr th {\n",
       "        vertical-align: top;\n",
       "    }\n",
       "\n",
       "    .dataframe thead th {\n",
       "        text-align: right;\n",
       "    }\n",
       "</style>\n",
       "<table border=\"1\" class=\"dataframe\">\n",
       "  <thead>\n",
       "    <tr style=\"text-align: right;\">\n",
       "      <th></th>\n",
       "      <th>biography</th>\n",
       "      <th>detective</th>\n",
       "      <th>fiction</th>\n",
       "      <th>mystery</th>\n",
       "      <th>non fiction</th>\n",
       "      <th>novel</th>\n",
       "      <th>Book</th>\n",
       "      <th>action</th>\n",
       "      <th>bollywood</th>\n",
       "      <th>comedy</th>\n",
       "      <th>...</th>\n",
       "      <th>rock</th>\n",
       "      <th>Music</th>\n",
       "      <th>baseball</th>\n",
       "      <th>basketball</th>\n",
       "      <th>chess</th>\n",
       "      <th>cricket</th>\n",
       "      <th>football</th>\n",
       "      <th>hockey</th>\n",
       "      <th>Sport</th>\n",
       "      <th>Cluster #</th>\n",
       "    </tr>\n",
       "  </thead>\n",
       "  <tbody>\n",
       "    <tr>\n",
       "      <th>0</th>\n",
       "      <td>0</td>\n",
       "      <td>0</td>\n",
       "      <td>0</td>\n",
       "      <td>0</td>\n",
       "      <td>0</td>\n",
       "      <td>0</td>\n",
       "      <td>0</td>\n",
       "      <td>0</td>\n",
       "      <td>0</td>\n",
       "      <td>0</td>\n",
       "      <td>...</td>\n",
       "      <td>0</td>\n",
       "      <td>0</td>\n",
       "      <td>0</td>\n",
       "      <td>0</td>\n",
       "      <td>0</td>\n",
       "      <td>0</td>\n",
       "      <td>0</td>\n",
       "      <td>0</td>\n",
       "      <td>0</td>\n",
       "      <td>0</td>\n",
       "    </tr>\n",
       "  </tbody>\n",
       "</table>\n",
       "<p>1 rows × 34 columns</p>\n",
       "</div>"
      ],
      "text/plain": [
       "   biography  detective  fiction  mystery  non fiction  novel  Book  action  \\\n",
       "0          0          0        0        0            0      0     0       0   \n",
       "\n",
       "   bollywood  comedy  ...  rock  Music  baseball  basketball  chess  cricket  \\\n",
       "0          0       0  ...     0      0         0           0      0        0   \n",
       "\n",
       "   football  hockey  Sport  Cluster #  \n",
       "0         0       0      0          0  \n",
       "\n",
       "[1 rows x 34 columns]"
      ]
     },
     "execution_count": 15,
     "metadata": {},
     "output_type": "execute_result"
    }
   ],
   "source": [
    "df"
   ]
  },
  {
   "cell_type": "code",
   "execution_count": 16,
   "metadata": {},
   "outputs": [
    {
     "data": {
      "text/html": [
       "<div>\n",
       "<style scoped>\n",
       "    .dataframe tbody tr th:only-of-type {\n",
       "        vertical-align: middle;\n",
       "    }\n",
       "\n",
       "    .dataframe tbody tr th {\n",
       "        vertical-align: top;\n",
       "    }\n",
       "\n",
       "    .dataframe thead th {\n",
       "        text-align: right;\n",
       "    }\n",
       "</style>\n",
       "<table border=\"1\" class=\"dataframe\">\n",
       "  <thead>\n",
       "    <tr style=\"text-align: right;\">\n",
       "      <th></th>\n",
       "      <th>biography</th>\n",
       "      <th>detective</th>\n",
       "      <th>fiction</th>\n",
       "      <th>mystery</th>\n",
       "      <th>non fiction</th>\n",
       "      <th>novel</th>\n",
       "      <th>Book</th>\n",
       "      <th>action</th>\n",
       "      <th>bollywood</th>\n",
       "      <th>comedy</th>\n",
       "      <th>...</th>\n",
       "      <th>rock</th>\n",
       "      <th>Music</th>\n",
       "      <th>baseball</th>\n",
       "      <th>basketball</th>\n",
       "      <th>chess</th>\n",
       "      <th>cricket</th>\n",
       "      <th>football</th>\n",
       "      <th>hockey</th>\n",
       "      <th>Sport</th>\n",
       "      <th>Cluster #</th>\n",
       "    </tr>\n",
       "  </thead>\n",
       "  <tbody>\n",
       "    <tr>\n",
       "      <th>0</th>\n",
       "      <td>0</td>\n",
       "      <td>0</td>\n",
       "      <td>0</td>\n",
       "      <td>0</td>\n",
       "      <td>0</td>\n",
       "      <td>0</td>\n",
       "      <td>0</td>\n",
       "      <td>0</td>\n",
       "      <td>0</td>\n",
       "      <td>0</td>\n",
       "      <td>...</td>\n",
       "      <td>0</td>\n",
       "      <td>0</td>\n",
       "      <td>0</td>\n",
       "      <td>0</td>\n",
       "      <td>0</td>\n",
       "      <td>0</td>\n",
       "      <td>0</td>\n",
       "      <td>0</td>\n",
       "      <td>0</td>\n",
       "      <td>0</td>\n",
       "    </tr>\n",
       "  </tbody>\n",
       "</table>\n",
       "<p>1 rows × 34 columns</p>\n",
       "</div>"
      ],
      "text/plain": [
       "   biography  detective  fiction  mystery  non fiction  novel  Book  action  \\\n",
       "0          0          0        0        0            0      0     0       0   \n",
       "\n",
       "   bollywood  comedy  ...  rock  Music  baseball  basketball  chess  cricket  \\\n",
       "0          0       0  ...     0      0         0           0      0        0   \n",
       "\n",
       "   football  hockey  Sport  Cluster #  \n",
       "0         0       0      0          0  \n",
       "\n",
       "[1 rows x 34 columns]"
      ]
     },
     "execution_count": 16,
     "metadata": {},
     "output_type": "execute_result"
    }
   ],
   "source": [
    "df.head()"
   ]
  },
  {
   "cell_type": "code",
   "execution_count": 17,
   "metadata": {},
   "outputs": [],
   "source": [
    "with open(\"profiles_clustered.pkl\",\"wb\") as fp:\n",
    "    pickle.dump(df,fp)"
   ]
  },
  {
   "cell_type": "code",
   "execution_count": null,
   "metadata": {},
   "outputs": [],
   "source": []
  },
  {
   "cell_type": "code",
   "execution_count": null,
   "metadata": {},
   "outputs": [],
   "source": []
  },
  {
   "cell_type": "code",
   "execution_count": null,
   "metadata": {},
   "outputs": [],
   "source": []
  },
  {
   "cell_type": "code",
   "execution_count": 9,
   "metadata": {},
   "outputs": [],
   "source": [
    "with open(\"profiles.pkl\",'rb') as fp:\n",
    "    raw_df = pickle.load(fp)\n"
   ]
  },
  {
   "cell_type": "code",
   "execution_count": 10,
   "metadata": {},
   "outputs": [
    {
     "data": {
      "text/html": [
       "<div>\n",
       "<style scoped>\n",
       "    .dataframe tbody tr th:only-of-type {\n",
       "        vertical-align: middle;\n",
       "    }\n",
       "\n",
       "    .dataframe tbody tr th {\n",
       "        vertical-align: top;\n",
       "    }\n",
       "\n",
       "    .dataframe thead th {\n",
       "        text-align: right;\n",
       "    }\n",
       "</style>\n",
       "<table border=\"1\" class=\"dataframe\">\n",
       "  <thead>\n",
       "    <tr style=\"text-align: right;\">\n",
       "      <th></th>\n",
       "      <th>biography</th>\n",
       "      <th>detective</th>\n",
       "      <th>fiction</th>\n",
       "      <th>mystery</th>\n",
       "      <th>non fiction</th>\n",
       "      <th>novel</th>\n",
       "      <th>Book</th>\n",
       "      <th>action</th>\n",
       "      <th>bollywood</th>\n",
       "      <th>comedy</th>\n",
       "      <th>...</th>\n",
       "      <th>pop</th>\n",
       "      <th>rock</th>\n",
       "      <th>Music</th>\n",
       "      <th>baseball</th>\n",
       "      <th>basketball</th>\n",
       "      <th>chess</th>\n",
       "      <th>cricket</th>\n",
       "      <th>football</th>\n",
       "      <th>hockey</th>\n",
       "      <th>Sport</th>\n",
       "    </tr>\n",
       "  </thead>\n",
       "  <tbody>\n",
       "    <tr>\n",
       "      <th>0</th>\n",
       "      <td>9</td>\n",
       "      <td>7</td>\n",
       "      <td>2</td>\n",
       "      <td>5</td>\n",
       "      <td>0</td>\n",
       "      <td>8</td>\n",
       "      <td>8</td>\n",
       "      <td>7</td>\n",
       "      <td>8</td>\n",
       "      <td>5</td>\n",
       "      <td>...</td>\n",
       "      <td>3</td>\n",
       "      <td>4</td>\n",
       "      <td>2</td>\n",
       "      <td>1</td>\n",
       "      <td>3</td>\n",
       "      <td>6</td>\n",
       "      <td>1</td>\n",
       "      <td>7</td>\n",
       "      <td>2</td>\n",
       "      <td>9</td>\n",
       "    </tr>\n",
       "  </tbody>\n",
       "</table>\n",
       "<p>1 rows × 33 columns</p>\n",
       "</div>"
      ],
      "text/plain": [
       "   biography  detective  fiction  mystery  non fiction  novel  Book  action  \\\n",
       "0          9          7        2        5            0      8     8       7   \n",
       "\n",
       "   bollywood  comedy  ...  pop  rock  Music  baseball  basketball  chess  \\\n",
       "0          8       5  ...    3     4      2         1           3      6   \n",
       "\n",
       "   cricket  football  hockey  Sport  \n",
       "0        1         7       2      9  \n",
       "\n",
       "[1 rows x 33 columns]"
      ]
     },
     "execution_count": 10,
     "metadata": {},
     "output_type": "execute_result"
    }
   ],
   "source": [
    "raw_df"
   ]
  },
  {
   "cell_type": "code",
   "execution_count": null,
   "metadata": {},
   "outputs": [],
   "source": []
  }
 ],
 "metadata": {
  "kernelspec": {
   "display_name": "Python 3",
   "language": "python",
   "name": "python3"
  },
  "language_info": {
   "codemirror_mode": {
    "name": "ipython",
    "version": 3
   },
   "file_extension": ".py",
   "mimetype": "text/x-python",
   "name": "python",
   "nbconvert_exporter": "python",
   "pygments_lexer": "ipython3",
   "version": "3.7.6"
  }
 },
 "nbformat": 4,
 "nbformat_minor": 4
}
