{
 "cells": [
  {
   "cell_type": "code",
   "execution_count": 1,
   "metadata": {},
   "outputs": [],
   "source": [
    "import numpy as np\n",
    "import _pickle as pickle\n"
   ]
  },
  {
   "cell_type": "code",
   "execution_count": 13,
   "metadata": {},
   "outputs": [],
   "source": [
    "with open(\"profiles_clustered.pkl\",'rb') as fp:\n",
    "    df = pickle.load(fp)\n",
    "\n",
    "with open(\"profilesMapIndex.pkl\",'rb') as fp:\n",
    "    profileMap = pickle.load(fp)\n"
   ]
  },
  {
   "cell_type": "code",
   "execution_count": 28,
   "metadata": {},
   "outputs": [],
   "source": [
    "random_user = profileMap[profileMap['uid'] == 193].index[0]"
   ]
  },
  {
   "cell_type": "code",
   "execution_count": 26,
   "metadata": {},
   "outputs": [
    {
     "data": {
      "text/plain": [
       "5"
      ]
     },
     "execution_count": 26,
     "metadata": {},
     "output_type": "execute_result"
    }
   ],
   "source": [
    "profileMap[profileMap['uid'] == 193].index[0]"
   ]
  },
  {
   "cell_type": "code",
   "execution_count": 29,
   "metadata": {},
   "outputs": [
    {
     "data": {
      "text/plain": [
       "5"
      ]
     },
     "execution_count": 29,
     "metadata": {},
     "output_type": "execute_result"
    }
   ],
   "source": [
    "random_user"
   ]
  },
  {
   "cell_type": "code",
   "execution_count": 4,
   "metadata": {},
   "outputs": [
    {
     "data": {
      "text/html": [
       "<div>\n",
       "<style scoped>\n",
       "    .dataframe tbody tr th:only-of-type {\n",
       "        vertical-align: middle;\n",
       "    }\n",
       "\n",
       "    .dataframe tbody tr th {\n",
       "        vertical-align: top;\n",
       "    }\n",
       "\n",
       "    .dataframe thead th {\n",
       "        text-align: right;\n",
       "    }\n",
       "</style>\n",
       "<table border=\"1\" class=\"dataframe\">\n",
       "  <thead>\n",
       "    <tr style=\"text-align: right;\">\n",
       "      <th></th>\n",
       "      <th>biography</th>\n",
       "      <th>detective</th>\n",
       "      <th>fiction</th>\n",
       "      <th>mystery</th>\n",
       "      <th>non fiction</th>\n",
       "      <th>novel</th>\n",
       "      <th>Book</th>\n",
       "      <th>action</th>\n",
       "      <th>bollywood</th>\n",
       "      <th>comedy</th>\n",
       "      <th>...</th>\n",
       "      <th>rock</th>\n",
       "      <th>Music</th>\n",
       "      <th>baseball</th>\n",
       "      <th>basketball</th>\n",
       "      <th>chess</th>\n",
       "      <th>cricket</th>\n",
       "      <th>football</th>\n",
       "      <th>hockey</th>\n",
       "      <th>Sport</th>\n",
       "      <th>Cluster #</th>\n",
       "    </tr>\n",
       "  </thead>\n",
       "  <tbody>\n",
       "    <tr>\n",
       "      <th>0</th>\n",
       "      <td>0.0</td>\n",
       "      <td>0.0</td>\n",
       "      <td>0.0</td>\n",
       "      <td>0.0</td>\n",
       "      <td>0.0</td>\n",
       "      <td>0.0</td>\n",
       "      <td>0.000000</td>\n",
       "      <td>0.0</td>\n",
       "      <td>0.0</td>\n",
       "      <td>0.0</td>\n",
       "      <td>...</td>\n",
       "      <td>0.0</td>\n",
       "      <td>0.000000</td>\n",
       "      <td>0.0</td>\n",
       "      <td>0.0</td>\n",
       "      <td>0.0</td>\n",
       "      <td>0.0</td>\n",
       "      <td>0.0</td>\n",
       "      <td>0.0</td>\n",
       "      <td>0.0000</td>\n",
       "      <td>1</td>\n",
       "    </tr>\n",
       "    <tr>\n",
       "      <th>1</th>\n",
       "      <td>0.0</td>\n",
       "      <td>0.0</td>\n",
       "      <td>0.0</td>\n",
       "      <td>0.0</td>\n",
       "      <td>1.0</td>\n",
       "      <td>1.0</td>\n",
       "      <td>0.012346</td>\n",
       "      <td>0.0</td>\n",
       "      <td>0.0</td>\n",
       "      <td>1.0</td>\n",
       "      <td>...</td>\n",
       "      <td>1.0</td>\n",
       "      <td>0.012346</td>\n",
       "      <td>0.0</td>\n",
       "      <td>0.0</td>\n",
       "      <td>0.0</td>\n",
       "      <td>1.0</td>\n",
       "      <td>1.0</td>\n",
       "      <td>0.0</td>\n",
       "      <td>0.0625</td>\n",
       "      <td>0</td>\n",
       "    </tr>\n",
       "    <tr>\n",
       "      <th>2</th>\n",
       "      <td>0.0</td>\n",
       "      <td>0.0</td>\n",
       "      <td>0.0</td>\n",
       "      <td>0.0</td>\n",
       "      <td>1.0</td>\n",
       "      <td>1.0</td>\n",
       "      <td>0.111111</td>\n",
       "      <td>0.0</td>\n",
       "      <td>0.0</td>\n",
       "      <td>1.0</td>\n",
       "      <td>...</td>\n",
       "      <td>1.0</td>\n",
       "      <td>0.111111</td>\n",
       "      <td>0.0</td>\n",
       "      <td>0.0</td>\n",
       "      <td>0.0</td>\n",
       "      <td>1.0</td>\n",
       "      <td>1.0</td>\n",
       "      <td>0.0</td>\n",
       "      <td>0.2500</td>\n",
       "      <td>0</td>\n",
       "    </tr>\n",
       "    <tr>\n",
       "      <th>3</th>\n",
       "      <td>0.0</td>\n",
       "      <td>0.0</td>\n",
       "      <td>0.0</td>\n",
       "      <td>0.0</td>\n",
       "      <td>1.0</td>\n",
       "      <td>1.0</td>\n",
       "      <td>1.000000</td>\n",
       "      <td>0.0</td>\n",
       "      <td>0.0</td>\n",
       "      <td>1.0</td>\n",
       "      <td>...</td>\n",
       "      <td>1.0</td>\n",
       "      <td>1.000000</td>\n",
       "      <td>0.0</td>\n",
       "      <td>0.0</td>\n",
       "      <td>0.0</td>\n",
       "      <td>1.0</td>\n",
       "      <td>1.0</td>\n",
       "      <td>0.0</td>\n",
       "      <td>1.0000</td>\n",
       "      <td>0</td>\n",
       "    </tr>\n",
       "    <tr>\n",
       "      <th>4</th>\n",
       "      <td>0.0</td>\n",
       "      <td>0.0</td>\n",
       "      <td>0.0</td>\n",
       "      <td>0.0</td>\n",
       "      <td>1.0</td>\n",
       "      <td>1.0</td>\n",
       "      <td>9.000000</td>\n",
       "      <td>0.0</td>\n",
       "      <td>0.0</td>\n",
       "      <td>1.0</td>\n",
       "      <td>...</td>\n",
       "      <td>1.0</td>\n",
       "      <td>9.000000</td>\n",
       "      <td>0.0</td>\n",
       "      <td>0.0</td>\n",
       "      <td>0.0</td>\n",
       "      <td>1.0</td>\n",
       "      <td>1.0</td>\n",
       "      <td>0.0</td>\n",
       "      <td>4.0000</td>\n",
       "      <td>0</td>\n",
       "    </tr>\n",
       "    <tr>\n",
       "      <th>5</th>\n",
       "      <td>0.0</td>\n",
       "      <td>0.0</td>\n",
       "      <td>0.0</td>\n",
       "      <td>0.0</td>\n",
       "      <td>1.0</td>\n",
       "      <td>1.0</td>\n",
       "      <td>9.000000</td>\n",
       "      <td>0.0</td>\n",
       "      <td>0.0</td>\n",
       "      <td>1.0</td>\n",
       "      <td>...</td>\n",
       "      <td>1.0</td>\n",
       "      <td>9.000000</td>\n",
       "      <td>0.0</td>\n",
       "      <td>0.0</td>\n",
       "      <td>0.0</td>\n",
       "      <td>1.0</td>\n",
       "      <td>1.0</td>\n",
       "      <td>0.0</td>\n",
       "      <td>4.0000</td>\n",
       "      <td>0</td>\n",
       "    </tr>\n",
       "  </tbody>\n",
       "</table>\n",
       "<p>6 rows × 34 columns</p>\n",
       "</div>"
      ],
      "text/plain": [
       "   biography  detective  fiction  mystery  non fiction  novel      Book  \\\n",
       "0        0.0        0.0      0.0      0.0          0.0    0.0  0.000000   \n",
       "1        0.0        0.0      0.0      0.0          1.0    1.0  0.012346   \n",
       "2        0.0        0.0      0.0      0.0          1.0    1.0  0.111111   \n",
       "3        0.0        0.0      0.0      0.0          1.0    1.0  1.000000   \n",
       "4        0.0        0.0      0.0      0.0          1.0    1.0  9.000000   \n",
       "5        0.0        0.0      0.0      0.0          1.0    1.0  9.000000   \n",
       "\n",
       "   action  bollywood  comedy  ...  rock     Music  baseball  basketball  \\\n",
       "0     0.0        0.0     0.0  ...   0.0  0.000000       0.0         0.0   \n",
       "1     0.0        0.0     1.0  ...   1.0  0.012346       0.0         0.0   \n",
       "2     0.0        0.0     1.0  ...   1.0  0.111111       0.0         0.0   \n",
       "3     0.0        0.0     1.0  ...   1.0  1.000000       0.0         0.0   \n",
       "4     0.0        0.0     1.0  ...   1.0  9.000000       0.0         0.0   \n",
       "5     0.0        0.0     1.0  ...   1.0  9.000000       0.0         0.0   \n",
       "\n",
       "   chess  cricket  football  hockey   Sport  Cluster #  \n",
       "0    0.0      0.0       0.0     0.0  0.0000          1  \n",
       "1    0.0      1.0       1.0     0.0  0.0625          0  \n",
       "2    0.0      1.0       1.0     0.0  0.2500          0  \n",
       "3    0.0      1.0       1.0     0.0  1.0000          0  \n",
       "4    0.0      1.0       1.0     0.0  4.0000          0  \n",
       "5    0.0      1.0       1.0     0.0  4.0000          0  \n",
       "\n",
       "[6 rows x 34 columns]"
      ]
     },
     "execution_count": 4,
     "metadata": {},
     "output_type": "execute_result"
    }
   ],
   "source": [
    "df"
   ]
  },
  {
   "cell_type": "code",
   "execution_count": 5,
   "metadata": {},
   "outputs": [
    {
     "data": {
      "text/html": [
       "<div>\n",
       "<style scoped>\n",
       "    .dataframe tbody tr th:only-of-type {\n",
       "        vertical-align: middle;\n",
       "    }\n",
       "\n",
       "    .dataframe tbody tr th {\n",
       "        vertical-align: top;\n",
       "    }\n",
       "\n",
       "    .dataframe thead th {\n",
       "        text-align: right;\n",
       "    }\n",
       "</style>\n",
       "<table border=\"1\" class=\"dataframe\">\n",
       "  <thead>\n",
       "    <tr style=\"text-align: right;\">\n",
       "      <th></th>\n",
       "      <th>1</th>\n",
       "      <th>2</th>\n",
       "      <th>3</th>\n",
       "      <th>4</th>\n",
       "      <th>5</th>\n",
       "    </tr>\n",
       "  </thead>\n",
       "  <tbody>\n",
       "    <tr>\n",
       "      <th>1</th>\n",
       "      <td>1.000000</td>\n",
       "      <td>0.995622</td>\n",
       "      <td>0.770919</td>\n",
       "      <td>-0.038306</td>\n",
       "      <td>-0.038306</td>\n",
       "    </tr>\n",
       "    <tr>\n",
       "      <th>2</th>\n",
       "      <td>0.995622</td>\n",
       "      <td>1.000000</td>\n",
       "      <td>0.823313</td>\n",
       "      <td>0.037163</td>\n",
       "      <td>0.037163</td>\n",
       "    </tr>\n",
       "    <tr>\n",
       "      <th>3</th>\n",
       "      <td>0.770919</td>\n",
       "      <td>0.823313</td>\n",
       "      <td>1.000000</td>\n",
       "      <td>0.582927</td>\n",
       "      <td>0.582927</td>\n",
       "    </tr>\n",
       "    <tr>\n",
       "      <th>4</th>\n",
       "      <td>-0.038306</td>\n",
       "      <td>0.037163</td>\n",
       "      <td>0.582927</td>\n",
       "      <td>1.000000</td>\n",
       "      <td>1.000000</td>\n",
       "    </tr>\n",
       "    <tr>\n",
       "      <th>5</th>\n",
       "      <td>-0.038306</td>\n",
       "      <td>0.037163</td>\n",
       "      <td>0.582927</td>\n",
       "      <td>1.000000</td>\n",
       "      <td>1.000000</td>\n",
       "    </tr>\n",
       "  </tbody>\n",
       "</table>\n",
       "</div>"
      ],
      "text/plain": [
       "          1         2         3         4         5\n",
       "1  1.000000  0.995622  0.770919 -0.038306 -0.038306\n",
       "2  0.995622  1.000000  0.823313  0.037163  0.037163\n",
       "3  0.770919  0.823313  1.000000  0.582927  0.582927\n",
       "4 -0.038306  0.037163  0.582927  1.000000  1.000000\n",
       "5 -0.038306  0.037163  0.582927  1.000000  1.000000"
      ]
     },
     "execution_count": 5,
     "metadata": {},
     "output_type": "execute_result"
    }
   ],
   "source": [
    "import random\n",
    "\n",
    "# Randomly choosing a cluster\n",
    "#rand_cluster = random.choice(df['Cluster #'].unique())\n",
    "\n",
    "# Assigning the Cluster Profiles as a new DF\n",
    "group = df[df['Cluster #']==df['Cluster #'][random_user]].drop('Cluster #', axis=1)\n",
    "#group = df\n",
    "\n",
    "## Vectorizing the Bios in the Selected Cluster\n",
    "\n",
    "# Fitting the vectorizer to the Bios\n",
    "\n",
    "\n",
    "# Creating a new DF that contains the vectorized words\n",
    "#cluster_v = pd.DataFrame(cluster_x.toarray(), index=group.index, columns=vectorizer.get_feature_names())\n",
    "\n",
    "# Joining the vector DF and the original DF\n",
    "#group = group.join(cluster_v)\n",
    "\n",
    "# Dropping the Bios because it is no longer needed in place of vectorization\n",
    "#group.drop('Bios', axis=1, inplace=True)\n",
    "\n",
    "\n",
    "## Finding Correlations among the users\n",
    "\n",
    "# Trasnposing the DF so that we are correlating with the index(users)\n",
    "corr_group = group.T.corr()\n",
    "\n",
    "\n",
    "## Finding the Top 10 Similar Users\n",
    "\n",
    "# Randomly selecting a user\n",
    "#random_user = random.choice(corr_group.index)\n",
    "corr_group"
   ]
  },
  {
   "cell_type": "code",
   "execution_count": 6,
   "metadata": {},
   "outputs": [
    {
     "name": "stdout",
     "output_type": "stream",
     "text": [
      "Top 10 most similar users to User # 2 \n",
      "\n",
      "          2\n",
      "1  0.995622\n",
      "3  0.823313\n",
      "4  0.037163\n",
      "5  0.037163\n",
      "\n",
      "The most similar user to User # 2 is User # 1\n"
     ]
    }
   ],
   "source": [
    "\n",
    "print(\"Top 10 most similar users to User #\", random_user, '\\n')\n",
    "\n",
    "# Creating a DF with the top 10 most similar users to the selected user\n",
    "top_10_sim = corr_group[[random_user]].sort_values(by=[random_user],axis=0, ascending=False)[1:11]\n",
    "\n",
    "# Printing out the results\n",
    "print(top_10_sim)\n",
    "\n",
    "print(\"\\nThe most similar user to User #\", random_user, \"is User #\", top_10_sim.index[0])"
   ]
  },
  {
   "cell_type": "code",
   "execution_count": 7,
   "metadata": {},
   "outputs": [
    {
     "data": {
      "text/plain": [
       "Int64Index([1, 3, 4, 5], dtype='int64')"
      ]
     },
     "execution_count": 7,
     "metadata": {},
     "output_type": "execute_result"
    }
   ],
   "source": [
    "top_10_sim.index"
   ]
  },
  {
   "cell_type": "code",
   "execution_count": 32,
   "metadata": {},
   "outputs": [],
   "source": [
    "ar = []\n",
    "for i in top_10_sim.index:\n",
    "    #print(profileMap[profileMap.index==profileMap.index[i]])\n",
    "    #print(\"-----\")\n",
    "    ar.append(profileMap['uid'][i])\n",
    "    #print(\"------------------------------\")"
   ]
  },
  {
   "cell_type": "code",
   "execution_count": 33,
   "metadata": {},
   "outputs": [
    {
     "data": {
      "text/plain": [
       "[0, 0, 0, 193]"
      ]
     },
     "execution_count": 33,
     "metadata": {},
     "output_type": "execute_result"
    }
   ],
   "source": [
    "ar"
   ]
  },
  {
   "cell_type": "code",
   "execution_count": null,
   "metadata": {},
   "outputs": [],
   "source": []
  },
  {
   "cell_type": "code",
   "execution_count": null,
   "metadata": {},
   "outputs": [],
   "source": []
  },
  {
   "cell_type": "code",
   "execution_count": null,
   "metadata": {},
   "outputs": [],
   "source": []
  },
  {
   "cell_type": "code",
   "execution_count": 36,
   "metadata": {},
   "outputs": [],
   "source": [
    "with open(\"aaa.pkl\",'rb') as fp:\n",
    "    pf = pickle.load(fp)\n"
   ]
  },
  {
   "cell_type": "code",
   "execution_count": 38,
   "metadata": {},
   "outputs": [
    {
     "data": {
      "text/plain": [
       "pandas.core.frame.DataFrame"
      ]
     },
     "execution_count": 38,
     "metadata": {},
     "output_type": "execute_result"
    }
   ],
   "source": [
    "type(pf)"
   ]
  },
  {
   "cell_type": "code",
   "execution_count": null,
   "metadata": {},
   "outputs": [],
   "source": []
  }
 ],
 "metadata": {
  "kernelspec": {
   "display_name": "Python 3",
   "language": "python",
   "name": "python3"
  },
  "language_info": {
   "codemirror_mode": {
    "name": "ipython",
    "version": 3
   },
   "file_extension": ".py",
   "mimetype": "text/x-python",
   "name": "python",
   "nbconvert_exporter": "python",
   "pygments_lexer": "ipython3",
   "version": "3.7.6"
  }
 },
 "nbformat": 4,
 "nbformat_minor": 4
}
